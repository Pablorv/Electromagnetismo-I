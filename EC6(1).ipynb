{
 "cells": [
  {
   "cell_type": "markdown",
   "metadata": {},
   "source": [
    "### Tarea Capítulo 6 Ejercicio Programación\n",
    "### Beatriz Santiago Ramírez\n",
    "### 8 de enero del 2021"
   ]
  },
  {
   "cell_type": "code",
   "execution_count": 18,
   "metadata": {},
   "outputs": [],
   "source": [
    "import numpy as np\n",
    "import sympy as sp"
   ]
  },
  {
   "cell_type": "code",
   "execution_count": 29,
   "metadata": {},
   "outputs": [],
   "source": [
    "w_0 = sp.Symbol('ω*sin(ψ)')\n",
    "w_1 = 0\n",
    "w_2 = sp.Symbol('ω*cos(ψ)')\n",
    "r_0 = sp.Symbol('R*sin(θ)*cos(φ)')\n",
    "r_1 = sp.Symbol('R*sin(θ)*sin(φ)')\n",
    "r_2 = sp.Symbol('R*cos(θ)')"
   ]
  },
  {
   "cell_type": "code",
   "execution_count": 30,
   "metadata": {},
   "outputs": [],
   "source": [
    "def proCr(a, b):\n",
    "       c = [a[1]*b[2] - a[2]*b[1],\n",
    "            a[2]*b[0] - a[0]*b[2],\n",
    "            a[0]*b[1] - a[1]*b[0]]\n",
    "\n",
    "       return c"
   ]
  },
  {
   "cell_type": "code",
   "execution_count": 46,
   "metadata": {
    "scrolled": true
   },
   "outputs": [
    {
     "name": "stdout",
     "output_type": "stream",
     "text": [
      "Sea ω el vector (ω*sin(ψ),0,ω*cos(ψ))\n",
      "\n",
      "Y Sea r el vector (R*sin(θ)*cos(φ),R*sin(θ)*sin(φ),R*cos(θ))\n",
      "\n"
     ]
    }
   ],
   "source": [
    "print(\"Sea ω el vector \", end = '(')\n",
    "print(w_0,w_1,w_2, sep = \",\", end = \")\")\n",
    "print(\"\\n\")\n",
    "print(\"Y Sea r el vector \", end = '(')\n",
    "print(r_0,r_1,r_2, sep = \",\", end = \")\")\n",
    "print(\"\\n\")"
   ]
  },
  {
   "cell_type": "code",
   "execution_count": 47,
   "metadata": {},
   "outputs": [],
   "source": [
    "Pro_C = proCr([w_0,w_1,w_2],[r_0,r_1,r_2])"
   ]
  },
  {
   "cell_type": "code",
   "execution_count": 52,
   "metadata": {
    "scrolled": true
   },
   "outputs": [
    {
     "name": "stdout",
     "output_type": "stream",
     "text": [
      "El producto cruz de ω con r es: \n",
      " [-R*sin(θ)*sin(φ)*ω*cos(ψ), -R*cos(θ)*ω*sin(ψ) + R*sin(θ)*cos(φ)*ω*cos(ψ), R*sin(θ)*sin(φ)*ω*sin(ψ)] \n",
      "\n",
      "La primer componente es: -R*sin(θ)*sin(φ)*ω*cos(ψ) \n",
      "\n",
      "La segunda componente es: -R*cos(θ)*ω*sin(ψ) + R*sin(θ)*cos(φ)*ω*cos(ψ) \n",
      "\n",
      "La tercer componente es: R*sin(θ)*sin(φ)*ω*sin(ψ) \n",
      "\n"
     ]
    }
   ],
   "source": [
    "print(\"El producto cruz de ω con r es: \\n\", Pro_C, \"\\n\")\n",
    "print(\"La primer componente es:\", Pro_C[0],\"\\n\")\n",
    "print(\"La segunda componente es:\", Pro_C[1],\"\\n\")\n",
    "print(\"La tercer componente es:\", Pro_C[2],\"\\n\")\n"
   ]
  },
  {
   "cell_type": "code",
   "execution_count": 80,
   "metadata": {},
   "outputs": [
    {
     "name": "stdout",
     "output_type": "stream",
     "text": [
      "3.141592653589793\n"
     ]
    }
   ],
   "source": [
    "print(mt.pi)"
   ]
  },
  {
   "cell_type": "code",
   "execution_count": 70,
   "metadata": {},
   "outputs": [],
   "source": [
    "import math as mt"
   ]
  },
  {
   "cell_type": "code",
   "execution_count": 101,
   "metadata": {},
   "outputs": [],
   "source": [
    "θ = sp.Symbol(\"θ\")\n",
    "φ = sp.Symbol(\"φ\")\n",
    "ψ = sp.Symbol(\"ψ\")\n",
    "R = sp.Symbol(\"R\")\n",
    "ω = sp.Symbol(\"ω\")\n",
    "μ = sp.Symbol(\"μ\")\n",
    "σ = sp.Symbol(\"σ\")\n",
    "r = sp.Symbol(\"r\")\n",
    "sin_f = sp.Symbol(\"sin(ψ)\")"
   ]
  },
  {
   "cell_type": "markdown",
   "metadata": {},
   "source": [
    "## Con ayuda de Sympy podemos calcular integrales definidas, conociendo el producto cruz, sólo resta calcular las integrales en cada uno de estos puntos, vemos entonces que: "
   ]
  },
  {
   "cell_type": "code",
   "execution_count": 97,
   "metadata": {},
   "outputs": [],
   "source": [
    "Int_x = sp.integrate(-R*sp.sin(θ), (θ, 0, mt.pi))*sp.integrate(sp.sin(φ), (φ,0,2*mt.pi))*sp.integrate(sp.cos(ψ), ψ)\n",
    "Int_z = sp.integrate(R*sp.sin(θ), (θ, 0, mt.pi))*sp.integrate(sp.sin(φ), (φ,0,2*mt.pi))*sp.integrate(sp.cos(ψ), ψ)"
   ]
  },
  {
   "cell_type": "code",
   "execution_count": 98,
   "metadata": {},
   "outputs": [
    {
     "name": "stdout",
     "output_type": "stream",
     "text": [
      "La integral de la primer componente, es decir en x: 0\n",
      "La integral de la tercer componente, es decir en z: 0\n"
     ]
    }
   ],
   "source": [
    "print(\"La integral de la primer componente, es decir en x:\",Int_x)\n",
    "print(\"La integral de la tercer componente, es decir en z:\", Int_z)"
   ]
  },
  {
   "cell_type": "code",
   "execution_count": 103,
   "metadata": {},
   "outputs": [],
   "source": []
  },
  {
   "cell_type": "code",
   "execution_count": 104,
   "metadata": {},
   "outputs": [
    {
     "name": "stdout",
     "output_type": "stream",
     "text": [
      "La integral de la segunda componente, es decir en y: -R**3*sin(ψ)*μ*σ*ω*Integral((R**2 - 2*R*r*cos(θ) + r**2)**(-0.5)*sin(θ)*cos(θ), (θ, 0, 3.14159265358979))/2\n"
     ]
    }
   ],
   "source": [
    "print(\"La integral de la segunda componente, es decir en y:\", A_r)"
   ]
  },
  {
   "cell_type": "code",
   "execution_count": null,
   "metadata": {},
   "outputs": [],
   "source": [
    "r = ((-μ*R**3*σ*ω*sin_f)/2)*sp.integrate((θ)*pow((R**2+r**2-2*R*r*θ),-1/2),θ)"
   ]
  },
  {
   "cell_type": "code",
   "execution_count": null,
   "metadata": {},
   "outputs": [],
   "source": [
    "sp.integrate((θ)/sp.sqrt((R**2+r**2-2*R*r*θ)),θ)"
   ]
  },
  {
   "cell_type": "code",
   "execution_count": null,
   "metadata": {},
   "outputs": [],
   "source": [
    "print(r)"
   ]
  },
  {
   "cell_type": "code",
   "execution_count": null,
   "metadata": {},
   "outputs": [],
   "source": [
    "print(\"La integral de la segunda componente, es decir en y:\", r)"
   ]
  },
  {
   "cell_type": "code",
   "execution_count": 119,
   "metadata": {},
   "outputs": [],
   "source": [
    "from matplotlib import pyplot as plt\n",
    "import sympy as sp"
   ]
  },
  {
   "cell_type": "code",
   "execution_count": 136,
   "metadata": {},
   "outputs": [],
   "source": [
    "R_ = 100\n",
    "Mu = 1\n",
    "sig_ = 5\n",
    "om_ = 4\n",
    "\n",
    "r_1 = np.linspace(1, 99.99999999, 1000)\n",
    "r_2 = np.linspace(100, 500, 1000)\n",
    "phi = np.linspace(0, 2*mt.pi, 1000)"
   ]
  },
  {
   "cell_type": "code",
   "execution_count": 137,
   "metadata": {},
   "outputs": [],
   "source": [
    "A_r1 = (Mu*R_*sig_/3)*(-om_*r_1*np.sin(phi))"
   ]
  },
  {
   "cell_type": "code",
   "execution_count": 138,
   "metadata": {},
   "outputs": [],
   "source": [
    "A_r2 = (Mu*R_**4*sig_/(3*r_2))*(-om_*r_2*np.sin(phi))"
   ]
  },
  {
   "cell_type": "code",
   "execution_count": 140,
   "metadata": {},
   "outputs": [
    {
     "data": {
      "text/plain": [
       "<matplotlib.legend.Legend at 0x1ff226b30c8>"
      ]
     },
     "execution_count": 140,
     "metadata": {},
     "output_type": "execute_result"
    },
    {
     "data": {
      "image/png": "[encoded data removed]",
      "text/plain": [
       "<Figure size 432x288 with 1 Axes>"
      ]
     },
     "metadata": {
      "needs_background": "light"
     },
     "output_type": "display_data"
    }
   ],
   "source": [
    "plt.plot(r_1, A_r1)\n",
    "\n",
    "plt.ion()\n",
    "plt.xlabel(\"r\")\n",
    "plt.ylabel(\"A(r)\")\n",
    "plt.title(\"Gráfica\")\n",
    "plt.plot(r_1, A_r1, color=\"blue\", linewidth=2.5, linestyle=\"-\", label=\"Q = Q_0*(exp(-t/R*C))\")\n",
    "plt.legend(loc='upper right')\n",
    "\n",
    "plt.plot(r_2, A_r2)\n",
    "\n",
    "plt.ion()\n",
    "plt.xlabel(\"r\")\n",
    "plt.ylabel(\"A(r)\")\n",
    "plt.title(\"Gráfica\")\n",
    "plt.plot(r_2, A_r2,color=\"red\", linewidth=2.5, linestyle=\"-\", label=\"$Q = Q_0*(1-exp(-t/R*C))$\")\n",
    "plt.legend(loc='upper right')"
   ]
  },
  {
   "cell_type": "code",
   "execution_count": null,
   "metadata": {},
   "outputs": [],
   "source": []
  },
  {
   "cell_type": "code",
   "execution_count": null,
   "metadata": {},
   "outputs": [],
   "source": []
  }
 ],
 "metadata": {
  "kernelspec": {
   "display_name": "Python 3",
   "language": "python",
   "name": "python3"
  },
  "language_info": {
   "codemirror_mode": {
    "name": "ipython",
    "version": 3
   },
   "file_extension": ".py",
   "mimetype": "text/x-python",
   "name": "python",
   "nbconvert_exporter": "python",
   "pygments_lexer": "ipython3",
   "version": "3.7.7"
  }
 },
 "nbformat": 4,
 "nbformat_minor": 4
}
