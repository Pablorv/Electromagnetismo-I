{
 "cells": [
  {
   "cell_type": "markdown",
   "metadata": {},
   "source": [
    "\n",
    "## Curso de Electromagnetismo I\n",
    "\n",
    "### Facultad de Ciencias, UNAM\n",
    "\n",
    "#### Ejercicios del capítulo 1.\n",
    "\n",
    "#### Dudas: pablorv@ciencias.unam.mx"
   ]
  },
  {
   "cell_type": "code",
   "execution_count": null,
   "metadata": {},
   "outputs": [],
   "source": []
  },
  {
   "cell_type": "code",
   "execution_count": null,
   "metadata": {},
   "outputs": [],
   "source": []
  },
  {
   "cell_type": "markdown",
   "metadata": {},
   "source": [
    "**Problema 1.** La divergencia de **E(r)**.\n",
    "\n",
    "\n",
    "Calcular la divergencia del campo eléctrico generado por una distribución de carga volumétrica $\\rho(r)$, dado por\n",
    "\n",
    "$$\n",
    "E(r)= \\frac{1}{4\\pi\\varepsilon_0} \\int_{V} \\frac{\\rho(r')\\mathbb{r}dV'}{\\mathbb{r}^2}                              ...(1)\n",
    "$$\n",
    "\n",
    "\n",
    "\n"
   ]
  },
  {
   "cell_type": "markdown",
   "metadata": {},
   "source": [
    "*Estrategia*\n",
    "\n",
    "Observar las variables en juego y notar que el operador \"$\\nabla\\cdot$\" actúa en las coordenadas de $r$."
   ]
  },
  {
   "cell_type": "markdown",
   "metadata": {},
   "source": [
    "**Solución.**\n",
    "\n",
    "\n",
    "$$\n",
    "\\nabla \\cdot E(r)= \\frac{\\rho(r)}{\\varepsilon_0}\n",
    "$$\n",
    "\n",
    "\n"
   ]
  },
  {
   "cell_type": "markdown",
   "metadata": {},
   "source": [
    "**Problema 2.** Campo de dos cargas eléctricas.\n",
    "\n",
    "\n",
    "\n",
    "Encontrar el campo eléctrico medido a una distancia $z$ del punto medio de la distancia entre dos cargas iguales, $q$, separadas por una distancia $d$.\n",
    "\n",
    "\n",
    "*Estrategia*\n",
    "\n",
    "\n",
    "Encontrar el campo generado por cada carga y sumarlos para obtener el campo total.\n",
    "\n",
    "\n",
    "**Solución.**\n",
    "\n",
    "$$\n",
    "E_{Total}(r)= \\frac{q\\cos{\\theta}}{2\\pi\\varepsilon_{0}r^{2}}\\hat{z}\n",
    "$$\n",
    "\n"
   ]
  },
  {
   "cell_type": "markdown",
   "metadata": {},
   "source": [
    "**Problema 3.** Campo de una barra cargada finita.\n",
    "\n",
    "Encuentra el campo eléctrico de un segmento de línea recta de longitud $2L$,  a una distancia $z$ encima del punto medio de la línea. Ésta tiene una densidad de carga uniforme $\\lambda$.\n",
    "\n",
    "*Estrategia.*\n",
    "\n",
    "Usar $x$ como una variable entre $-L$ y $L$, recordar que $dQ=\\lambda dx$ e integrar adecuadamente y coordenada a coordenada.\n",
    "\n",
    "\n",
    "**Solución.**\n",
    "\n",
    "$$\n",
    "E(r)=\\frac{L\\lambda}{2\\pi\\varepsilon_{0}z\\sqrt{L^{2}+z^{2}}}\\hat{z}\n",
    "$$"
   ]
  },
  {
   "cell_type": "markdown",
   "metadata": {},
   "source": [
    "**Problema 4.** Gauss cilíndrico.\n",
    "\n",
    "Un cilindro largo tiene una densidad de carga que es proporcional a la distancia al eje: $\\rho=kr$ con $k$ una constante y $r$ la distancia radial.\n",
    "\n",
    "Encuentra el campo eléctrico dentro del cilindro.\n",
    "\n",
    "\n",
    "*Estrategia*\n",
    "\n",
    "Utilizar la Ley de Gauss para calcular la carga encerrada en el cilindro, $Q_{enc}$ y posteriormente encontrar el campo realizando la integral de área y despejándolo.\n",
    "\n",
    "\n",
    "\n",
    "**Solución.**\n",
    "\n",
    "$$\n",
    "E=\\frac{kr^{2}}{3\\varepsilon_{0}}\\hat{r}\n",
    "$$"
   ]
  }
 ],
 "metadata": {
  "kernelspec": {
   "display_name": "Python 3",
   "language": "python",
   "name": "python3"
  },
  "language_info": {
   "codemirror_mode": {
    "name": "ipython",
    "version": 3
   },
   "file_extension": ".py",
   "mimetype": "text/x-python",
   "name": "python",
   "nbconvert_exporter": "python",
   "pygments_lexer": "ipython3",
   "version": "3.7.6"
  }
 },
 "nbformat": 4,
 "nbformat_minor": 4
}
