{
 "cells": [
  {
   "cell_type": "code",
   "execution_count": 2,
   "metadata": {},
   "outputs": [],
   "source": [
    "import numpy as np\n",
    "from scipy.integrate import odeint\n"
   ]
  },
  {
   "cell_type": "code",
   "execution_count": 3,
   "metadata": {},
   "outputs": [],
   "source": [
    "import matplotlib.pyplot as plt"
   ]
  },
  {
   "cell_type": "code",
   "execution_count": 4,
   "metadata": {},
   "outputs": [],
   "source": [
    "E = 1.0\n",
    "B = 0.4\n",
    "q = 0.9\n",
    "m = 1.6"
   ]
  },
  {
   "cell_type": "code",
   "execution_count": 5,
   "metadata": {},
   "outputs": [],
   "source": [
    "w = (q*B)/m\n"
   ]
  },
  {
   "cell_type": "code",
   "execution_count": 33,
   "metadata": {},
   "outputs": [],
   "source": [
    "def f(A, t):\n",
    "    y, v_z = A*w\n",
    "    return [v_z, w*((E/B)-y)]"
   ]
  },
  {
   "cell_type": "code",
   "execution_count": 69,
   "metadata": {},
   "outputs": [],
   "source": [
    "f0 = [0.0,0.0]\n",
    "t = np.linspace(0,100,200)"
   ]
  },
  {
   "cell_type": "code",
   "execution_count": 35,
   "metadata": {},
   "outputs": [],
   "source": [
    "sol = odeint(f,f0,t)"
   ]
  },
  {
   "cell_type": "code",
   "execution_count": 36,
   "metadata": {},
   "outputs": [
    {
     "name": "stdout",
     "output_type": "stream",
     "text": [
      "[[ 0.00000000e+00  0.00000000e+00]\n",
      " [ 1.59758769e-02  2.82527840e-01]\n",
      " [ 6.38575806e-02  5.64243216e-01]\n",
      " [ 1.43507412e-01  8.44336031e-01]\n",
      " [ 2.54696325e-01  1.12200081e+00]\n",
      " [ 3.97104579e-01  1.39643910e+00]\n",
      " [ 5.70322656e-01  1.66686171e+00]\n",
      " [ 7.73852441e-01  1.93249099e+00]\n",
      " [ 1.00710865e+00  2.19256309e+00]\n",
      " [ 1.26942053e+00  2.44633013e+00]\n",
      " [ 1.56003372e+00  2.69306236e+00]\n",
      " [ 1.87811256e+00  2.93205026e+00]\n",
      " [ 2.22274236e+00  3.16260658e+00]\n",
      " [ 2.59293206e+00  3.38406833e+00]\n",
      " [ 2.98761714e+00  3.59579866e+00]\n",
      " [ 3.40566261e+00  3.79718870e+00]\n",
      " [ 3.84586632e+00  3.98765931e+00]\n",
      " [ 4.30696240e+00  4.16666279e+00]\n",
      " [ 4.78762487e+00  4.33368436e+00]\n",
      " [ 5.28647153e+00  4.48824373e+00]\n",
      " [ 5.80206785e+00  4.62989645e+00]\n",
      " [ 6.33293118e+00  4.75823517e+00]\n",
      " [ 6.87753491e+00  4.87289082e+00]\n",
      " [ 7.43431297e+00  4.97353371e+00]\n",
      " [ 8.00166424e+00  5.05987442e+00]\n",
      " [ 8.57795722e+00  5.13166466e+00]\n",
      " [ 9.16153467e+00  5.18869798e+00]\n",
      " [ 9.75071845e+00  5.23081038e+00]\n",
      " [ 1.03438142e+01  5.25788076e+00]\n",
      " [ 1.09391165e+01  5.26983127e+00]\n",
      " [ 1.15349134e+01  5.26662754e+00]\n",
      " [ 1.21294916e+01  5.24827879e+00]\n",
      " [ 1.27211412e+01  5.21483779e+00]\n",
      " [ 1.33081609e+01  5.16640069e+00]\n",
      " [ 1.38888628e+01  5.10310680e+00]\n",
      " [ 1.44615767e+01  5.02513812e+00]\n",
      " [ 1.50246559e+01  4.93271885e+00]\n",
      " [ 1.55764810e+01  4.82611477e+00]\n",
      " [ 1.61154653e+01  4.70563243e+00]\n",
      " [ 1.66400588e+01  4.57161830e+00]\n",
      " [ 1.71487528e+01  4.42445775e+00]\n",
      " [ 1.76400847e+01  4.26457398e+00]\n",
      " [ 1.81126415e+01  4.09242675e+00]\n",
      " [ 1.85650643e+01  3.90851109e+00]\n",
      " [ 1.89960521e+01  3.71335589e+00]\n",
      " [ 1.94043654e+01  3.50752235e+00]\n",
      " [ 1.97888302e+01  3.29160237e+00]\n",
      " [ 2.01483408e+01  3.06621687e+00]\n",
      " [ 2.04818635e+01  2.83201398e+00]\n",
      " [ 2.07884391e+01  2.58966717e+00]\n",
      " [ 2.10671859e+01  2.33987338e+00]\n",
      " [ 2.13173025e+01  2.08335090e+00]\n",
      " [ 2.15380696e+01  1.82083742e+00]\n",
      " [ 2.17288524e+01  1.55308783e+00]\n",
      " [ 2.18891021e+01  1.28087209e+00]\n",
      " [ 2.20183580e+01  1.00497301e+00]\n",
      " [ 2.21162484e+01  7.26183957e-01]\n",
      " [ 2.21824917e+01  4.45306650e-01]\n",
      " [ 2.22168976e+01  1.63148795e-01]\n",
      " [ 2.22193670e+01 -1.19478222e-01]\n",
      " [ 2.21898929e+01 -4.01761661e-01]\n",
      " [ 2.21285599e+01 -6.82889770e-01]\n",
      " [ 2.20355446e+01 -9.62054122e-01]\n",
      " [ 2.19111143e+01 -1.23845194e+00]\n",
      " [ 2.17556269e+01 -1.51128838e+00]\n",
      " [ 2.15695295e+01 -1.77977889e+00]\n",
      " [ 2.13533573e+01 -2.04315135e+00]\n",
      " [ 2.11077318e+01 -2.30064841e+00]\n",
      " [ 2.08333595e+01 -2.55152959e+00]\n",
      " [ 2.05310293e+01 -2.79507344e+00]\n",
      " [ 2.02016107e+01 -3.03057962e+00]\n",
      " [ 1.98460509e+01 -3.25737089e+00]\n",
      " [ 1.94653724e+01 -3.47479507e+00]\n",
      " [ 1.90606698e+01 -3.68222692e+00]\n",
      " [ 1.86331071e+01 -3.87906995e+00]\n",
      " [ 1.81839137e+01 -4.06475810e+00]\n",
      " [ 1.77143813e+01 -4.23875739e+00]\n",
      " [ 1.72258601e+01 -4.40056746e+00]\n",
      " [ 1.67197551e+01 -4.54972301e+00]\n",
      " [ 1.61975214e+01 -4.68579510e+00]\n",
      " [ 1.56606610e+01 -4.80839245e+00]\n",
      " [ 1.51107177e+01 -4.91716250e+00]\n",
      " [ 1.45492729e+01 -5.01179248e+00]\n",
      " [ 1.39779411e+01 -5.09201024e+00]\n",
      " [ 1.33983652e+01 -5.15758513e+00]\n",
      " [ 1.28122120e+01 -5.20832857e+00]\n",
      " [ 1.22211670e+01 -5.24409463e+00]\n",
      " [ 1.16269299e+01 -5.26478047e+00]\n",
      " [ 1.10312095e+01 -5.27032660e+00]\n",
      " [ 1.04357188e+01 -5.26071706e+00]\n",
      " [ 9.84217032e+00 -5.23597951e+00]\n",
      " [ 9.25227089e+00 -5.19618507e+00]\n",
      " [ 8.66771684e+00 -5.14144817e+00]\n",
      " [ 8.09018917e+00 -5.07192623e+00]\n",
      " [ 7.52134863e+00 -4.98781916e+00]\n",
      " [ 6.96283105e+00 -4.88936883e+00]\n",
      " [ 6.41624249e+00 -4.77685834e+00]\n",
      " [ 5.88315473e+00 -4.65061125e+00]\n",
      " [ 5.36510077e+00 -4.51099058e+00]\n",
      " [ 4.86357039e+00 -4.35839784e+00]\n",
      " [ 4.38000579e+00 -4.19327184e+00]\n",
      " [ 3.91579755e+00 -4.01608742e+00]\n",
      " [ 3.47228059e+00 -3.82735411e+00]\n",
      " [ 3.05073028e+00 -3.62761463e+00]\n",
      " [ 2.65235889e+00 -3.41744337e+00]\n",
      " [ 2.27831199e+00 -3.19744471e+00]\n",
      " [ 1.92966519e+00 -2.96825130e+00]\n",
      " [ 1.60742110e+00 -2.73052220e+00]\n",
      " [ 1.31250637e+00 -2.48494106e+00]\n",
      " [ 1.04576909e+00 -2.23221407e+00]\n",
      " [ 8.07976289e-01 -1.97306800e+00]\n",
      " [ 5.99811784e-01 -1.70824806e+00]\n",
      " [ 4.21874187e-01 -1.43851578e+00]\n",
      " [ 2.74675180e-01 -1.16464682e+00]\n",
      " [ 1.58638069e-01 -8.87428728e-01]\n",
      " [ 7.40965347e-02 -6.07658696e-01]\n",
      " [ 2.12936773e-02 -3.26141248e-01]\n",
      " [ 3.81346211e-04 -4.36859285e-02]\n",
      " [ 1.14196832e-02  2.38895018e-01]\n",
      " [ 5.43769404e-02  5.20788984e-01]\n",
      " [ 1.29129587e-01  8.01185338e-01]\n",
      " [ 2.35462663e-01  1.07927776e+00]\n",
      " [ 3.73070389e-01  1.35426654e+00]\n",
      " [ 5.41557052e-01  1.62536092e+00]\n",
      " [ 7.40438142e-01  1.89178131e+00]\n",
      " [ 9.69141746e-01  2.15276159e+00]\n",
      " [ 1.22701019e+00  2.40755126e+00]\n",
      " [ 1.51330193e+00  2.65541763e+00]\n",
      " [ 1.82719369e+00  2.89564793e+00]\n",
      " [ 2.16778283e+00  3.12755134e+00]\n",
      " [ 2.53408992e+00  3.35046098e+00]\n",
      " [ 2.92506159e+00  3.56373584e+00]\n",
      " [ 3.33957355e+00  3.76676261e+00]\n",
      " [ 3.77643380e+00  3.95895745e+00]\n",
      " [ 4.23438607e+00  4.13976769e+00]\n",
      " [ 4.71211346e+00  4.30867337e+00]\n",
      " [ 5.20824217e+00  4.46518878e+00]\n",
      " [ 5.72134553e+00  4.60886383e+00]\n",
      " [ 6.24994800e+00  4.73928536e+00]\n",
      " [ 6.79252953e+00  4.85607833e+00]\n",
      " [ 7.34752982e+00  4.95890687e+00]\n",
      " [ 7.91335288e+00  5.04747529e+00]\n",
      " [ 8.48837160e+00  5.12152890e+00]\n",
      " [ 9.07093243e+00  5.18085474e+00]\n",
      " [ 9.65936012e+00  5.22528221e+00]\n",
      " [ 1.02519625e+01  5.25468355e+00]\n",
      " [ 1.08470356e+01  5.26897422e+00]\n",
      " [ 1.14428680e+01  5.26811312e+00]\n",
      " [ 1.20377464e+01  5.25210273e+00]\n",
      " [ 1.26299602e+01  5.22098908e+00]\n",
      " [ 1.32178062e+01  5.17486166e+00]\n",
      " [ 1.37995941e+01  5.11385310e+00]\n",
      " [ 1.43736508e+01  5.03813884e+00]\n",
      " [ 1.49383256e+01  4.94793662e+00]\n",
      " [ 1.54919947e+01  4.84350583e+00]\n",
      " [ 1.60330658e+01  4.72514676e+00]\n",
      " [ 1.65599831e+01  4.59319978e+00]\n",
      " [ 1.70712312e+01  4.44804434e+00]\n",
      " [ 1.75653401e+01  4.29009783e+00]\n",
      " [ 1.80408888e+01  4.11981447e+00]\n",
      " [ 1.84965099e+01  3.93768393e+00]\n",
      " [ 1.89308931e+01  3.74422996e+00]\n",
      " [ 1.93427893e+01  3.54000886e+00]\n",
      " [ 1.97310139e+01  3.32560790e+00]\n",
      " [ 2.00944507e+01  3.10164363e+00]\n",
      " [ 2.04320545e+01  2.86876009e+00]\n",
      " [ 2.07428544e+01  2.62762698e+00]\n",
      " [ 2.10259567e+01  2.37893771e+00]\n",
      " [ 2.12805473e+01  2.12340743e+00]\n",
      " [ 2.15058940e+01  1.86177095e+00]\n",
      " [ 2.17013490e+01  1.59478065e+00]\n",
      " [ 2.18663500e+01  1.32320431e+00]\n",
      " [ 2.20004226e+01  1.04782288e+00]\n",
      " [ 2.21031813e+01  7.69428277e-01]\n",
      " [ 2.21743306e+01  4.88821056e-01]\n",
      " [ 2.22136658e+01  2.06808153e-01]\n",
      " [ 2.22210738e+01 -7.57994594e-02]\n",
      " [ 2.21965334e+01 -3.58189102e-01]\n",
      " [ 2.21401151e+01 -6.39548716e-01]\n",
      " [ 2.20519812e+01 -9.19069205e-01]\n",
      " [ 2.19323850e+01 -1.19594676e+00]\n",
      " [ 2.17816706e+01 -1.46938519e+00]\n",
      " [ 2.16002713e+01 -1.73859817e+00]\n",
      " [ 2.13887087e+01 -2.00281153e+00]\n",
      " [ 2.11475913e+01 -2.26126549e+00]\n",
      " [ 2.08776124e+01 -2.51321682e+00]\n",
      " [ 2.05795483e+01 -2.75794100e+00]\n",
      " [ 2.02542563e+01 -2.99473428e+00]\n",
      " [ 1.99026717e+01 -3.22291574e+00]\n",
      " [ 1.95258056e+01 -3.44182918e+00]\n",
      " [ 1.91247417e+01 -3.65084510e+00]\n",
      " [ 1.87006333e+01 -3.84936244e+00]\n",
      " [ 1.82547001e+01 -4.03681033e+00]\n",
      " [ 1.77882243e+01 -4.21264973e+00]\n",
      " [ 1.73025475e+01 -4.37637498e+00]\n",
      " [ 1.67990661e+01 -4.52751528e+00]\n",
      " [ 1.62792282e+01 -4.66563599e+00]\n",
      " [ 1.57445285e+01 -4.79033992e+00]\n",
      " [ 1.51965047e+01 -4.90126847e+00]\n",
      " [ 1.46367327e+01 -4.99810265e+00]]\n"
     ]
    }
   ],
   "source": [
    "print(sol)"
   ]
  },
  {
   "cell_type": "code",
   "execution_count": 37,
   "metadata": {},
   "outputs": [
    {
     "data": {
      "image/png": "[encoded data removed]",
      "text/plain": [
       "<Figure size 432x288 with 1 Axes>"
      ]
     },
     "metadata": {
      "needs_background": "light"
     },
     "output_type": "display_data"
    }
   ],
   "source": [
    "fig, axes = plt.subplots()\n",
    "axes.plot(t, sol[:,0], 'g')\n",
    "axes.plot(t, sol[:,1], 'b')\n",
    "plt.grid()"
   ]
  },
  {
   "cell_type": "markdown",
   "metadata": {},
   "source": [
    "Para la fuerza de lorentz hay que considerar lo siguiente $x'=\\gamma (x-vt)$\n",
    "\n",
    "Con $\\gamma = \\frac{1}{\\sqrt{1-\\frac{v^2}{c^2}}}$\n",
    "\n",
    "Así, recalculando:"
   ]
  },
  {
   "cell_type": "code",
   "execution_count": 49,
   "metadata": {},
   "outputs": [],
   "source": [
    "c = 300000\n",
    "v = 0.9*c\n",
    "gamma = 1/(pow(1-(v**2/c**2),1/2))"
   ]
  },
  {
   "cell_type": "code",
   "execution_count": 53,
   "metadata": {},
   "outputs": [],
   "source": [
    "a = np.linspace(0, 50, 100000)\n",
    "t = np.linspace(0.000001, 50, 100000)"
   ]
  },
  {
   "cell_type": "code",
   "execution_count": 54,
   "metadata": {},
   "outputs": [],
   "source": [
    "f = q*((gamma/t)*(a-v*t))*B"
   ]
  },
  {
   "cell_type": "code",
   "execution_count": 65,
   "metadata": {},
   "outputs": [
    {
     "data": {
      "text/plain": [
       "<matplotlib.legend.Legend at 0x1ba3a2f4848>"
      ]
     },
     "execution_count": 65,
     "metadata": {},
     "output_type": "execute_result"
    },
    {
     "data": {
      "image/png": "[encoded data removed]",
      "text/plain": [
       "<Figure size 432x288 with 1 Axes>"
      ]
     },
     "metadata": {
      "needs_background": "light"
     },
     "output_type": "display_data"
    }
   ],
   "source": [
    "plt.plot(a, f)\n",
    "\n",
    "plt.ion()\n",
    "plt.xlabel(\"x\")\n",
    "plt.ylabel(\"F\")\n",
    "plt.title(\"F\")\n",
    "plt.plot(a, f, color=\"blue\",  linewidth=2.5, linestyle=\"-\", label=\"F\")\n",
    "plt.legend(loc='upper right')"
   ]
  },
  {
   "cell_type": "code",
   "execution_count": 61,
   "metadata": {},
   "outputs": [],
   "source": [
    "def g(A, t):\n",
    "    y, v_z = A*w\n",
    "    return [v_z, w*((E/B)-(gamma*(y-v*t)))]"
   ]
  },
  {
   "cell_type": "code",
   "execution_count": 67,
   "metadata": {},
   "outputs": [],
   "source": [
    "sol_1 = odeint(g,f0,t)"
   ]
  },
  {
   "cell_type": "code",
   "execution_count": 68,
   "metadata": {},
   "outputs": [
    {
     "data": {
      "image/png": "[encoded data removed]",
      "text/plain": [
       "<Figure size 432x288 with 1 Axes>"
      ]
     },
     "metadata": {
      "needs_background": "light"
     },
     "output_type": "display_data"
    }
   ],
   "source": [
    "fig, axes = plt.subplots()\n",
    "axes.plot(t, sol_1[:,0], 'g')\n",
    "axes.plot(t, sol_1[:,1], 'b')\n",
    "plt.grid()"
   ]
  },
  {
   "cell_type": "code",
   "execution_count": null,
   "metadata": {},
   "outputs": [],
   "source": []
  }
 ],
 "metadata": {
  "kernelspec": {
   "display_name": "Python 3",
   "language": "python",
   "name": "python3"
  },
  "language_info": {
   "codemirror_mode": {
    "name": "ipython",
    "version": 3
   },
   "file_extension": ".py",
   "mimetype": "text/x-python",
   "name": "python",
   "nbconvert_exporter": "python",
   "pygments_lexer": "ipython3",
   "version": "3.7.7"
  }
 },
 "nbformat": 4,
 "nbformat_minor": 4
}
