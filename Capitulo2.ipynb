{
 "cells": [
  {
   "cell_type": "markdown",
   "metadata": {},
   "source": [
    "## Curso de Electromagnetismo I\n",
    "\n",
    "### Facultad de Ciencias, UNAM\n",
    "\n",
    "#### Ejercicios del capítulo 2.\n",
    "\n",
    "#### Dudas: pablorv@ciencias.unam.mx"
   ]
  },
  {
   "cell_type": "code",
   "execution_count": null,
   "metadata": {},
   "outputs": [],
   "source": []
  },
  {
   "cell_type": "markdown",
   "metadata": {},
   "source": [
    "**Problema 1.** ¿Qué es una integral de trayectoria?."
   ]
  },
  {
   "cell_type": "markdown",
   "metadata": {},
   "source": [
    "**Problema 2.** Campo eléctrico posible.\n",
    "\n",
    "Uno de estas expresiones es un campo eléctrico posible. ¿Cuál es?.\n",
    "\n",
    "(a) $E=k[xy\\hat{x}+2yz\\hat{y}+3xz\\hat{z}]$\n",
    "\n",
    "(b) $E=k[y^{2}\\hat{x}+(2xy+z^2)\\hat{y}+2yz\\hat{z}]$"
   ]
  },
  {
   "cell_type": "markdown",
   "metadata": {},
   "source": [
    "**Problema 3.** Escapando de un cubo.\n",
    "\n",
    "Supongamos que tenemos 8 protones fijos en los vértices de un cubo. Un noveno protón flota libremente cerca del centro del cubo. Considera que no hay más cargas alrededor de él ni gravedad. ¿El noveno protón se encuentra atrapado? ¿Puede encontrar una ruta de escape con energía potencial decreciente?. Puedes resolver el problema de manera numérica."
   ]
  },
  {
   "cell_type": "markdown",
   "metadata": {},
   "source": [
    "**Problema 4.** Triángulo a la derecha.\n",
    "\n",
    "Se tiene un triángulo con densidad superficial de carga uniforme $\\sigma$, base $b$ y altura $a$. Encuentra el potencial en el vértice inferior de la base del triángulo, $P$.\n"
   ]
  },
  {
   "cell_type": "code",
   "execution_count": null,
   "metadata": {},
   "outputs": [],
   "source": []
  }
 ],
 "metadata": {
  "kernelspec": {
   "display_name": "Python 3",
   "language": "python",
   "name": "python3"
  },
  "language_info": {
   "codemirror_mode": {
    "name": "ipython",
    "version": 3
   },
   "file_extension": ".py",
   "mimetype": "text/x-python",
   "name": "python",
   "nbconvert_exporter": "python",
   "pygments_lexer": "ipython3",
   "version": "3.7.6"
  }
 },
 "nbformat": 4,
 "nbformat_minor": 4
}
