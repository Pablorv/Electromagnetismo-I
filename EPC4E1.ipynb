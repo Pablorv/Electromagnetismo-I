{
 "cells": [
  {
   "cell_type": "code",
   "execution_count": 35,
   "metadata": {},
   "outputs": [],
   "source": [
    "import math as mt\n",
    "import numpy as np\n",
    "from matplotlib import pyplot as plt\n",
    "import sympy as sp"
   ]
  },
  {
   "cell_type": "markdown",
   "metadata": {},
   "source": [
    "### Tarea Capítulo 4 Ejercicio Programación\n",
    "### Beatriz Santiago Ramírez\n",
    "### 23 de noviembre del 2020"
   ]
  },
  {
   "cell_type": "code",
   "execution_count": 129,
   "metadata": {},
   "outputs": [],
   "source": [
    "#Definimos las variables constantes para que la carga sólo quede en función del tiempo. Así:\n",
    "\n",
    "Q_0 = 10\n",
    "R = 150  \n",
    "C = 1.5"
   ]
  },
  {
   "cell_type": "code",
   "execution_count": 130,
   "metadata": {},
   "outputs": [],
   "source": [
    "t = np.linspace(1, 5000, 1000)"
   ]
  },
  {
   "cell_type": "code",
   "execution_count": 169,
   "metadata": {},
   "outputs": [],
   "source": [
    "Q = Q_0*(np.exp(-t/(R*C)))"
   ]
  },
  {
   "cell_type": "code",
   "execution_count": 170,
   "metadata": {},
   "outputs": [],
   "source": [
    "Q_ = Q_0*(1-np.exp(-t/(R*C)))"
   ]
  },
  {
   "cell_type": "markdown",
   "metadata": {},
   "source": [
    "## (a)"
   ]
  },
  {
   "cell_type": "code",
   "execution_count": 171,
   "metadata": {},
   "outputs": [
    {
     "data": {
      "text/plain": [
       "<matplotlib.legend.Legend at 0x298439039c8>"
      ]
     },
     "execution_count": 171,
     "metadata": {},
     "output_type": "execute_result"
    },
    {
     "data": {
      "image/png": "[encoded data removed]",
      "text/plain": [
       "<Figure size 432x288 with 1 Axes>"
      ]
     },
     "metadata": {
      "needs_background": "light"
     },
     "output_type": "display_data"
    }
   ],
   "source": [
    "plt.plot(t, Q)\n",
    "\n",
    "plt.ion()\n",
    "plt.xlabel(\"t\")\n",
    "plt.ylabel(\"Q(t)\")\n",
    "plt.title(\"función de carga en el tiempo\")\n",
    "plt.plot(t, Q, color=\"blue\", linewidth=2.5, linestyle=\"-\", label=\"Q = Q_0*(exp(-t/R*C))\")\n",
    "plt.legend(loc='upper right')\n",
    "\n",
    "plt.plot(t, Q_)\n",
    "\n",
    "plt.ion()\n",
    "plt.xlabel(\"t\")\n",
    "plt.ylabel(\"Q(t)\")\n",
    "plt.title(\"función de carga en el tiempo\")\n",
    "plt.plot(t, Q_, color=\"red\", linewidth=2.5, linestyle=\"-\", label=\"$Q = Q_0*(1-exp(-t/R*C))$\")\n",
    "plt.legend(loc='upper right')"
   ]
  },
  {
   "cell_type": "markdown",
   "metadata": {},
   "source": [
    "## (b)"
   ]
  },
  {
   "cell_type": "code",
   "execution_count": 172,
   "metadata": {},
   "outputs": [],
   "source": [
    "Q = Q_0*(np.exp(-t/(R*C)))"
   ]
  },
  {
   "cell_type": "code",
   "execution_count": 208,
   "metadata": {},
   "outputs": [],
   "source": [
    "t_ = np.linspace(1, 5000, 999)"
   ]
  },
  {
   "cell_type": "code",
   "execution_count": 218,
   "metadata": {},
   "outputs": [],
   "source": [
    "I = (-Q_0/R*C)*(np.exp(-t/(R*C)))"
   ]
  },
  {
   "cell_type": "code",
   "execution_count": 219,
   "metadata": {},
   "outputs": [],
   "source": [
    "I_ = np.diff(Q)\n"
   ]
  },
  {
   "cell_type": "code",
   "execution_count": 220,
   "metadata": {},
   "outputs": [
    {
     "data": {
      "text/plain": [
       "<matplotlib.legend.Legend at 0x29843a23488>"
      ]
     },
     "execution_count": 220,
     "metadata": {},
     "output_type": "execute_result"
    },
    {
     "data": {
      "image/png": "[encoded data removed]",
      "text/plain": [
       "<Figure size 432x288 with 1 Axes>"
      ]
     },
     "metadata": {
      "needs_background": "light"
     },
     "output_type": "display_data"
    }
   ],
   "source": [
    "plt.plot(t_, I_)\n",
    "plt.plot(t, I)\n",
    "\n",
    "\n",
    "plt.ion()\n",
    "plt.xlabel(\"t\")\n",
    "plt.ylabel(\"I(t)\")\n",
    "plt.title(\"I en función del tiempo\")\n",
    "plt.plot(t_, I_, color=\"blue\", linewidth=2.5, linestyle=\"-\", label=\"I = diff(Q(t))\")\n",
    "plt.plot(t, I, color=\"red\", linewidth=2.5, linestyle=\"-\", label=\"I = dQ/dt\")\n",
    "plt.legend(loc='upper right')"
   ]
  },
  {
   "cell_type": "markdown",
   "metadata": {},
   "source": [
    "Existe una pequeña diferencia entre estas gráficas, pero esto se debe a la manera en como actúa el comando diff, dentro de los datos. Nos devuelve un arreglo más chico. Mientras que en el caso del cálculo analítico es directo. Esto evidentemente es por la parte del método número que se emplea."
   ]
  },
  {
   "cell_type": "markdown",
   "metadata": {},
   "source": [
    "## (c)"
   ]
  },
  {
   "cell_type": "code",
   "execution_count": 221,
   "metadata": {},
   "outputs": [],
   "source": [
    "Q = Q_0*(np.exp(-t/(R*C)))\n",
    "\n",
    "\n",
    "Q_ = Q_0*(1-np.exp(-t/(R*C)))"
   ]
  },
  {
   "cell_type": "code",
   "execution_count": 225,
   "metadata": {},
   "outputs": [
    {
     "name": "stdout",
     "output_type": "stream",
     "text": [
      "El calor cedido en el primer caso es: 447.6644135300098 J\n"
     ]
    }
   ],
   "source": [
    "W = np.trapz(Q)\n",
    "print(\"El calor cedido en el primer caso es:\",W, \"J\")"
   ]
  },
  {
   "cell_type": "code",
   "execution_count": 226,
   "metadata": {},
   "outputs": [
    {
     "name": "stdout",
     "output_type": "stream",
     "text": [
      "El calor cedido en el segundo caso es: 9542.335586469992 J\n"
     ]
    }
   ],
   "source": [
    "W_ = np.trapz(Q_)\n",
    "print(\"El calor cedido en el segundo caso es:\",W_, \"J\")"
   ]
  },
  {
   "cell_type": "code",
   "execution_count": null,
   "metadata": {},
   "outputs": [],
   "source": []
  }
 ],
 "metadata": {
  "kernelspec": {
   "display_name": "Python 3",
   "language": "python",
   "name": "python3"
  },
  "language_info": {
   "codemirror_mode": {
    "name": "ipython",
    "version": 3
   },
   "file_extension": ".py",
   "mimetype": "text/x-python",
   "name": "python",
   "nbconvert_exporter": "python",
   "pygments_lexer": "ipython3",
   "version": "3.7.7"
  }
 },
 "nbformat": 4,
 "nbformat_minor": 4
}
