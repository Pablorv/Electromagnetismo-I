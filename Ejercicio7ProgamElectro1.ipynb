{
 "cells": [
  {
   "cell_type": "markdown",
   "metadata": {},
   "source": [
    "### Tarea Capítulo 7 Ejercicio Programación\n",
    "### Beatriz Santiago Ramírez\n",
    "### 25 de enero del 2021"
   ]
  },
  {
   "cell_type": "code",
   "execution_count": 1,
   "metadata": {},
   "outputs": [],
   "source": [
    "import numpy as np\n",
    "import sympy as sp"
   ]
  },
  {
   "cell_type": "code",
   "execution_count": 2,
   "metadata": {},
   "outputs": [],
   "source": [
    "from matplotlib import pyplot as plt\n",
    "import sympy as sp"
   ]
  },
  {
   "cell_type": "markdown",
   "metadata": {},
   "source": [
    "##### Como se sugiere dentro de los Hint para resolver este ejercicio, podremos por lo tanto considerar las siguientes cosas:"
   ]
  },
  {
   "cell_type": "markdown",
   "metadata": {},
   "source": [
    "Definir la velocidad como $v=\\omega r$, de donde podremos considerar la fuerza electromotriz como$\\vec{f_m} = q\\vec{v}x\\vec{B}$, así dada esta expresión y con la siguientes relaciones vemos que:\n",
    "\n",
    "El campo se podrá escribir como $\\vec{E}=\\frac{\\vec{f_m}}{q}$\n",
    "\n",
    "Entonces,\n",
    "\n",
    "$E = vB = B\\omega r$, \n",
    "\n",
    "de dónde sustituyendo para la fem, deberemos resovler la integral de la forma:\n",
    "\n",
    "\\begin{equation}\n",
    "f_m = \\int_{0}^{R} E dr = B \\omega \\int_{0}^{R} r dr  \\ \\ \\ \\ (1)\n",
    "\\end{equation}\n",
    "\n"
   ]
  },
  {
   "cell_type": "markdown",
   "metadata": {},
   "source": [
    "##### Usando Sympy."
   ]
  },
  {
   "cell_type": "code",
   "execution_count": 13,
   "metadata": {},
   "outputs": [],
   "source": [
    "r = sp.Symbol(\"r\")\n",
    "a = sp.Symbol(\"a\")\n",
    "ω = sp.Symbol(\"ω\")\n",
    "B = sp.Symbol(\"B\")"
   ]
  },
  {
   "cell_type": "code",
   "execution_count": 14,
   "metadata": {},
   "outputs": [
    {
     "data": {
      "text/latex": [
       "$\\displaystyle \\frac{B a^{2} ω}{2}$"
      ],
      "text/plain": [
       "B*a**2*ω/2"
      ]
     },
     "execution_count": 14,
     "metadata": {},
     "output_type": "execute_result"
    }
   ],
   "source": [
    "Int_r = sp.integrate(B*ω*r, (r, 0, a))\n",
    "sp.integrate(B*ω*r, (r, 0, a))\n"
   ]
  },
  {
   "cell_type": "code",
   "execution_count": 15,
   "metadata": {},
   "outputs": [
    {
     "name": "stdout",
     "output_type": "stream",
     "text": [
      "La integral de (1) es: \n",
      "B*a**2*ω/2\n"
     ]
    }
   ],
   "source": [
    "print(\"La integral de (1) es: \")\n",
    "print(Int_r)"
   ]
  },
  {
   "cell_type": "markdown",
   "metadata": {},
   "source": [
    "Luego, dada esta expresión, podemos escribir la corriente en función de la resistencia y la fem, de tal forma que podremos graficar, obteniendo lo siguiente:\n",
    "\n",
    "\\begin{equation}\n",
    "I = \\frac{f_m}{R_e}=\\frac{Ba^2\\omega}{2R_e}\n",
    "\\end{equation}\n",
    "\n",
    "Donde $R_e$ es la resistencia del circuito. \n",
    "\n",
    "Ahora bien, vamos a graficar en función de la velocidad angular $\\omega$, de $a$ y $R_e$ respectivamente, dejando así en cada una de las variables el resto como constantes. Claramente $B$ será constante.\n"
   ]
  },
  {
   "cell_type": "code",
   "execution_count": 39,
   "metadata": {},
   "outputs": [],
   "source": [
    "a_1 = 4\n",
    "R_1 = 100\n",
    "B = 0.5\n",
    "om_1 = np.linspace(0.001, 200, 1000)\n",
    "\n",
    "om_2 = 4\n",
    "R_2 = 100\n",
    "a_2 = np.linspace(0.001, 200, 1000)\n",
    "\n",
    "\n",
    "a_3 = 4\n",
    "om_3 = 100\n",
    "R_3 = np.linspace(1, 20, 1000)"
   ]
  },
  {
   "cell_type": "code",
   "execution_count": 40,
   "metadata": {},
   "outputs": [],
   "source": [
    "I_1 = B*a_1**2*om_1/(2*R_1)\n",
    "I_2 = B*a_2**2*om_2/(2*R_2)\n",
    "I_3 = B*a_3**2*om_3/(2*R_3)"
   ]
  },
  {
   "cell_type": "code",
   "execution_count": 35,
   "metadata": {
    "scrolled": true
   },
   "outputs": [
    {
     "data": {
      "text/plain": [
       "<matplotlib.legend.Legend at 0x20b89fff5c8>"
      ]
     },
     "execution_count": 35,
     "metadata": {},
     "output_type": "execute_result"
    },
    {
     "data": {
      "image/png": "[encoded data removed]",
      "text/plain": [
       "<Figure size 432x288 with 1 Axes>"
      ]
     },
     "metadata": {
      "needs_background": "light"
     },
     "output_type": "display_data"
    }
   ],
   "source": [
    "plt.plot(om_1, I_1)\n",
    "\n",
    "plt.ion()\n",
    "plt.xlabel(\"ω\")\n",
    "plt.ylabel(\"I(ω)\")\n",
    "plt.title(\"Gráfica\")\n",
    "plt.plot(om_1, I_1, color=\"blue\", linewidth=2.5, linestyle=\"-\", label=\"I(ω)\")\n",
    "plt.legend(loc='upper right')\n"
   ]
  },
  {
   "cell_type": "code",
   "execution_count": 36,
   "metadata": {},
   "outputs": [
    {
     "data": {
      "text/plain": [
       "<matplotlib.legend.Legend at 0x20b89bdecc8>"
      ]
     },
     "execution_count": 36,
     "metadata": {},
     "output_type": "execute_result"
    },
    {
     "data": {
      "image/png": "[encoded data removed]",
      "text/plain": [
       "<Figure size 432x288 with 1 Axes>"
      ]
     },
     "metadata": {
      "needs_background": "light"
     },
     "output_type": "display_data"
    }
   ],
   "source": [
    "plt.plot(a_2, I_2)\n",
    "\n",
    "plt.ion()\n",
    "plt.xlabel(\"a\")\n",
    "plt.ylabel(\"I(a)\")\n",
    "plt.title(\"Gráfica\")\n",
    "plt.plot(a_2, I_2,color=\"red\", linewidth=2.5, linestyle=\"-\", label=\"I(a)\")\n",
    "plt.legend(loc='upper right')"
   ]
  },
  {
   "cell_type": "code",
   "execution_count": 41,
   "metadata": {},
   "outputs": [
    {
     "data": {
      "text/plain": [
       "<matplotlib.legend.Legend at 0x20b89edd1c8>"
      ]
     },
     "execution_count": 41,
     "metadata": {},
     "output_type": "execute_result"
    },
    {
     "data": {
      "image/png": "[encoded data removed]",
      "text/plain": [
       "<Figure size 432x288 with 1 Axes>"
      ]
     },
     "metadata": {
      "needs_background": "light"
     },
     "output_type": "display_data"
    }
   ],
   "source": [
    "plt.plot(R_3, I_3)\n",
    "\n",
    "plt.ion()\n",
    "plt.xlabel(\"R\")\n",
    "plt.ylabel(\"I(R)\")\n",
    "plt.title(\"Gráfica\")\n",
    "plt.plot(R_3, I_3,color=\"green\", linewidth=2.5, linestyle=\"-\", label=\"I(R)\")\n",
    "plt.legend(loc='upper right')"
   ]
  },
  {
   "cell_type": "markdown",
   "metadata": {},
   "source": [
    "### Las 3 juntas"
   ]
  },
  {
   "cell_type": "code",
   "execution_count": 42,
   "metadata": {},
   "outputs": [
    {
     "data": {
      "text/plain": [
       "<matplotlib.legend.Legend at 0x20b8a274c08>"
      ]
     },
     "execution_count": 42,
     "metadata": {},
     "output_type": "execute_result"
    },
    {
     "data": {
      "image/png": "[encoded data removed]",
      "text/plain": [
       "<Figure size 432x288 with 1 Axes>"
      ]
     },
     "metadata": {
      "needs_background": "light"
     },
     "output_type": "display_data"
    }
   ],
   "source": [
    "plt.plot(om_1, I_1)\n",
    "\n",
    "plt.ion()\n",
    "plt.xlabel(\"ω\")\n",
    "plt.ylabel(\"I(ω)\")\n",
    "plt.title(\"Gráfica\")\n",
    "plt.plot(om_1, I_1, color=\"blue\", linewidth=2.5, linestyle=\"-\", label=\"I(ω)\")\n",
    "plt.legend(loc='upper right')\n",
    "\n",
    "plt.plot(a_2, I_2)\n",
    "\n",
    "plt.ion()\n",
    "plt.xlabel(\"a\")\n",
    "plt.ylabel(\"I(a)\")\n",
    "plt.title(\"Gráfica\")\n",
    "plt.plot(a_2, I_2,color=\"red\", linewidth=2.5, linestyle=\"-\", label=\"I(a)\")\n",
    "plt.legend(loc='upper right')\n",
    "\n",
    "plt.plot(R_3, I_3)\n",
    "\n",
    "plt.ion()\n",
    "plt.xlabel(\"R\")\n",
    "plt.ylabel(\"I(R)\")\n",
    "plt.title(\"Gráfica\")\n",
    "plt.plot(R_3, I_3,color=\"green\", linewidth=2.5, linestyle=\"-\", label=\"I(R)\")\n",
    "plt.legend(loc='upper right')"
   ]
  },
  {
   "cell_type": "markdown",
   "metadata": {},
   "source": [
    "Encontramos 3 distintas gráficas donde cada una de ellas nos muestra una interpretación de la variación de la corriente. \n",
    "En la primera, al variar la velocidad, claramente su comportamiento es de crecer la corriente de manera lineal, es decir que conforme aumentemos la velocidad, evidentemente la corriente aumentará, pero lo hará de manera lineal, aspecto de relevancia para nosotros.\n",
    "Ahora bien, al variar el radio encontramos un comportamiento interesante, puesto que se vuelve de manera creciente no lineal, casi exponencial, lo cual sugiere que si aumentaramos el radio, obtendríamos corriente creciente semiexponencialmente.\n",
    "Por último, cuando la resistencia se incrementa, la corriente decae rapidamente, como lo sugiere la última gráfica.\n",
    "En todos los casos, es casi intuitiva la interpretación, pero los gráficos nos permiten evidenciar estas características."
   ]
  },
  {
   "cell_type": "code",
   "execution_count": null,
   "metadata": {},
   "outputs": [],
   "source": []
  }
 ],
 "metadata": {
  "kernelspec": {
   "display_name": "Python 3",
   "language": "python",
   "name": "python3"
  },
  "language_info": {
   "codemirror_mode": {
    "name": "ipython",
    "version": 3
   },
   "file_extension": ".py",
   "mimetype": "text/x-python",
   "name": "python",
   "nbconvert_exporter": "python",
   "pygments_lexer": "ipython3",
   "version": "3.7.7"
  }
 },
 "nbformat": 4,
 "nbformat_minor": 4
}
